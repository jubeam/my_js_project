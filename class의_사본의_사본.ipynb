{
  "nbformat": 4,
  "nbformat_minor": 0,
  "metadata": {
    "colab": {
      "name": "class의 사본의 사본",
      "version": "0.3.2",
      "provenance": [],
      "collapsed_sections": [],
      "machine_shape": "hm",
      "include_colab_link": true
    },
    "kernelspec": {
      "name": "python3",
      "display_name": "Python 3"
    }
  },
  "cells": [
    {
      "cell_type": "markdown",
      "metadata": {
        "id": "view-in-github",
        "colab_type": "text"
      },
      "source": [
        "<a href=\"https://colab.research.google.com/github/jubeam/my_js_project/blob/master/class%EC%9D%98_%EC%82%AC%EB%B3%B8%EC%9D%98_%EC%82%AC%EB%B3%B8.ipynb\" target=\"_parent\"><img src=\"https://colab.research.google.com/assets/colab-badge.svg\" alt=\"Open In Colab\"/></a>"
      ]
    },
    {
      "cell_type": "code",
      "metadata": {
        "id": "S3VpWsY3c36k",
        "colab_type": "code",
        "outputId": "fbbb96b7-752a-4833-d47b-e7fb74e27e28",
        "colab": {
          "base_uri": "https://localhost:8080/",
          "height": 1000
        }
      },
      "source": [
        " #0. 사용할 패키지 불러오기\n",
        "import numpy as np\n",
        "from keras.models import Sequential\n",
        "from keras.layers import Dense\n",
        "from keras.layers import Flatten\n",
        "from keras.layers.convolutional import Conv2D\n",
        "from keras.layers.convolutional import MaxPooling2D\n",
        "from keras.preprocessing.image import ImageDataGenerator\n",
        "\n",
        "# 랜덤시드 고정시키기\n",
        "np.random.seed(3)\n",
        "\n",
        "# 1. 데이터 생성하기\n",
        "\n",
        "from google.colab import drive\n",
        "drive.mount('/gdrive', force_remount=True)\n",
        "train_datagen = ImageDataGenerator(\n",
        "        rescale=1./255,         # 픽셀 값을 0~1 범위로 변환\n",
        "        rotation_range=15,      # 15도까지 회전\n",
        "        width_shift_range=0.1,  # 10%까지 좌우 이동\n",
        "        height_shift_range=0.1, # 10%까지 상하 이동\n",
        "        shear_range=0.5,        # 50%까지 기울임\n",
        "        zoom_range=[0.8,2.0],         # 20%까지 확대\n",
        "        horizontal_flip=True,   # 좌우 뒤집기\n",
        "        vertical_flip=True,\n",
        "       fill_mode='nearest')\n",
        "    \n",
        "\n",
        "train_generator = train_datagen.flow_from_directory(\n",
        "        '/gdrive/My Drive/Colab Notebooks/train',\n",
        "        target_size=(70, 70),\n",
        "        batch_size=3,\n",
        "        class_mode='categorical')\n",
        "\n",
        "test_datagen = ImageDataGenerator(rescale=1./255)\n",
        "\n",
        "test_generator = test_datagen.flow_from_directory(\n",
        "        '/gdrive/My Drive/Colab Notebooks/test',\n",
        "        target_size=(70, 70),    \n",
        "        batch_size=3,\n",
        "       class_mode='categorical')\n",
        "\n",
        "# 2. 모델 구성하기\n",
        "model = Sequential()\n",
        "model.add(Conv2D(32, kernel_size=(7, 7),\n",
        "                 activation='relu',\n",
        "                 input_shape=(70,70,3)))\n",
        "model.add(Conv2D(64, (5, 5), activation='relu'))\n",
        "model.add(MaxPooling2D(pool_size=(5, 5)))\n",
        "model.add(Flatten())\n",
        "model.add(Dense(128, activation='relu'))\n",
        "model.add(Dense(3, activation='softmax'))\n",
        "\n",
        "# 3. 모델 학습과정 설정하기\n",
        "model.compile(loss='categorical_crossentropy', optimizer='adam', metrics=['accuracy'])\n",
        "\n",
        "# 4. 모델 학습시키기\n",
        "from keras.callbacks import EarlyStopping\n",
        "early_stopping = EarlyStopping(patience = 20) # 조기종료 콜백함수 정의\n",
        "#hist = model.fit(X_train, Y_train, epochs=3000, batch_size=10, validation_data=(X_val, Y_val), callbacks=[early_stopping])\n",
        "model.fit_generator(\n",
        "        train_generator,\n",
        "        steps_per_epoch=15 * 100,\n",
        "        epochs=200,\n",
        "        validation_data=test_generator,\n",
        "        validation_steps=5,\n",
        "        callbacks=[early_stopping]    \n",
        "        )\n",
        "\n",
        "# 6. 모델 평가하기\n",
        "print(\"-- Evaluate --\")\n",
        "scores = model.evaluate_generator(test_generator, steps=5)\n",
        "print(\"%s: %.2f%%\" %(model.metrics_names[1], scores[1]*100))\n",
        "\n",
        "# 7. 모델 사용하기\n",
        "print(\"-- Predict --\")\n",
        "output = model.predict_generator(test_generator, steps=5)\n",
        "np.set_printoptions(formatter={'float': lambda x: \"{0:0.3f}\".format(x)})\n",
        "print(test_generator.class_indices)\n",
        "print(output)"
      ],
      "execution_count": 4,
      "outputs": [
        {
          "output_type": "stream",
          "text": [
            "Mounted at /gdrive\n",
            "Found 70 images belonging to 3 classes.\n",
            "Found 12 images belonging to 3 classes.\n",
            "Epoch 1/200\n",
            "1500/1500 [==============================] - 106s 71ms/step - loss: 0.4552 - acc: 0.8331 - val_loss: 0.0842 - val_acc: 1.0000\n",
            "Epoch 2/200\n",
            "1500/1500 [==============================] - 105s 70ms/step - loss: 0.3015 - acc: 0.8942 - val_loss: 0.0966 - val_acc: 1.0000\n",
            "Epoch 3/200\n",
            "1500/1500 [==============================] - 106s 71ms/step - loss: 0.2794 - acc: 0.8993 - val_loss: 0.0660 - val_acc: 1.0000\n",
            "Epoch 4/200\n",
            "1500/1500 [==============================] - 105s 70ms/step - loss: 0.2728 - acc: 0.9002 - val_loss: 0.1795 - val_acc: 1.0000\n",
            "Epoch 5/200\n",
            "1500/1500 [==============================] - 106s 71ms/step - loss: 0.3074 - acc: 0.9038 - val_loss: 0.1956 - val_acc: 0.9333\n",
            "Epoch 6/200\n",
            "1500/1500 [==============================] - 106s 71ms/step - loss: 0.2067 - acc: 0.9280 - val_loss: 0.2778 - val_acc: 1.0000\n",
            "Epoch 7/200\n",
            "1500/1500 [==============================] - 106s 70ms/step - loss: 0.2078 - acc: 0.9284 - val_loss: 0.2998 - val_acc: 0.8000\n",
            "Epoch 8/200\n",
            "1500/1500 [==============================] - 105s 70ms/step - loss: 0.1802 - acc: 0.9356 - val_loss: 0.1865 - val_acc: 0.8667\n",
            "Epoch 9/200\n",
            "1500/1500 [==============================] - 106s 71ms/step - loss: 0.1690 - acc: 0.9442 - val_loss: 0.3073 - val_acc: 0.8667\n",
            "Epoch 10/200\n",
            "1500/1500 [==============================] - 106s 71ms/step - loss: 0.1668 - acc: 0.9398 - val_loss: 0.5722 - val_acc: 0.8000\n",
            "Epoch 11/200\n",
            "1500/1500 [==============================] - 106s 71ms/step - loss: 0.1669 - acc: 0.9444 - val_loss: 0.4111 - val_acc: 0.8667\n",
            "Epoch 12/200\n",
            "1500/1500 [==============================] - 108s 72ms/step - loss: 0.1515 - acc: 0.9480 - val_loss: 1.2215 - val_acc: 0.8000\n",
            "Epoch 13/200\n",
            "1500/1500 [==============================] - 108s 72ms/step - loss: 0.1450 - acc: 0.9536 - val_loss: 0.5420 - val_acc: 0.8667\n",
            "Epoch 14/200\n",
            "1500/1500 [==============================] - 107s 71ms/step - loss: 0.1400 - acc: 0.9509 - val_loss: 0.4727 - val_acc: 0.8667\n",
            "Epoch 15/200\n",
            "1500/1500 [==============================] - 107s 71ms/step - loss: 0.1243 - acc: 0.9551 - val_loss: 1.1366 - val_acc: 0.6667\n",
            "Epoch 16/200\n",
            "1500/1500 [==============================] - 108s 72ms/step - loss: 0.1398 - acc: 0.9544 - val_loss: 0.3271 - val_acc: 0.8667\n",
            "Epoch 17/200\n",
            "1500/1500 [==============================] - 108s 72ms/step - loss: 0.1364 - acc: 0.9538 - val_loss: 0.3854 - val_acc: 0.8000\n",
            "Epoch 18/200\n",
            "1500/1500 [==============================] - 109s 73ms/step - loss: 0.1196 - acc: 0.9613 - val_loss: 0.3489 - val_acc: 0.8000\n",
            "Epoch 19/200\n",
            "1500/1500 [==============================] - 108s 72ms/step - loss: 0.1206 - acc: 0.9571 - val_loss: 0.1210 - val_acc: 0.9333\n",
            "Epoch 20/200\n",
            "1500/1500 [==============================] - 108s 72ms/step - loss: 0.1163 - acc: 0.9580 - val_loss: 0.1714 - val_acc: 0.8000\n",
            "Epoch 21/200\n",
            "1500/1500 [==============================] - 111s 74ms/step - loss: 0.1162 - acc: 0.9571 - val_loss: 0.9536 - val_acc: 0.8000\n",
            "Epoch 22/200\n",
            "1500/1500 [==============================] - 110s 73ms/step - loss: 0.1180 - acc: 0.9576 - val_loss: 0.0361 - val_acc: 1.0000\n",
            "Epoch 23/200\n",
            "1500/1500 [==============================] - 111s 74ms/step - loss: 0.1043 - acc: 0.9656 - val_loss: 0.0411 - val_acc: 1.0000\n",
            "Epoch 24/200\n",
            "1500/1500 [==============================] - 111s 74ms/step - loss: 0.1144 - acc: 0.9627 - val_loss: 0.2196 - val_acc: 0.8667\n",
            "Epoch 25/200\n",
            "1500/1500 [==============================] - 109s 73ms/step - loss: 0.1004 - acc: 0.9653 - val_loss: 0.1618 - val_acc: 0.8667\n",
            "Epoch 26/200\n",
            "1500/1500 [==============================] - 110s 73ms/step - loss: 0.0909 - acc: 0.9704 - val_loss: 0.1279 - val_acc: 0.9333\n",
            "Epoch 27/200\n",
            "1500/1500 [==============================] - 109s 73ms/step - loss: 0.1168 - acc: 0.9633 - val_loss: 1.1013 - val_acc: 0.7333\n",
            "Epoch 28/200\n",
            "1500/1500 [==============================] - 109s 73ms/step - loss: 0.1059 - acc: 0.9653 - val_loss: 0.3308 - val_acc: 0.7333\n",
            "Epoch 29/200\n",
            "1500/1500 [==============================] - 108s 72ms/step - loss: 0.0945 - acc: 0.9651 - val_loss: 0.1689 - val_acc: 1.0000\n",
            "Epoch 30/200\n",
            "1500/1500 [==============================] - 108s 72ms/step - loss: 0.1154 - acc: 0.9609 - val_loss: 0.2014 - val_acc: 0.8000\n",
            "Epoch 31/200\n",
            "1500/1500 [==============================] - 107s 71ms/step - loss: 0.0968 - acc: 0.9671 - val_loss: 0.1909 - val_acc: 0.8667\n",
            "Epoch 32/200\n",
            "1500/1500 [==============================] - 106s 71ms/step - loss: 0.0989 - acc: 0.9636 - val_loss: 0.1892 - val_acc: 0.8667\n",
            "Epoch 33/200\n",
            "1500/1500 [==============================] - 108s 72ms/step - loss: 0.0988 - acc: 0.9678 - val_loss: 0.1809 - val_acc: 0.8667\n",
            "Epoch 34/200\n",
            "1500/1500 [==============================] - 108s 72ms/step - loss: 0.1057 - acc: 0.9640 - val_loss: 0.5319 - val_acc: 0.8000\n",
            "Epoch 35/200\n",
            "1500/1500 [==============================] - 107s 72ms/step - loss: 0.0866 - acc: 0.9700 - val_loss: 2.2278 - val_acc: 0.8000\n",
            "Epoch 36/200\n",
            "1500/1500 [==============================] - 108s 72ms/step - loss: 0.1095 - acc: 0.9620 - val_loss: 0.5283 - val_acc: 0.8667\n",
            "Epoch 37/200\n",
            "1500/1500 [==============================] - 107s 71ms/step - loss: 0.0840 - acc: 0.9691 - val_loss: 0.0410 - val_acc: 1.0000\n",
            "Epoch 38/200\n",
            "1500/1500 [==============================] - 106s 71ms/step - loss: 0.0941 - acc: 0.9691 - val_loss: 0.0916 - val_acc: 0.9333\n",
            "Epoch 39/200\n",
            "1500/1500 [==============================] - 108s 72ms/step - loss: 0.1057 - acc: 0.9658 - val_loss: 0.3295 - val_acc: 0.8000\n",
            "Epoch 40/200\n",
            "1500/1500 [==============================] - 108s 72ms/step - loss: 0.0996 - acc: 0.9673 - val_loss: 0.4879 - val_acc: 0.8000\n",
            "Epoch 41/200\n",
            "1500/1500 [==============================] - 109s 73ms/step - loss: 0.0881 - acc: 0.9696 - val_loss: 1.1412 - val_acc: 0.8000\n",
            "Epoch 42/200\n",
            "1500/1500 [==============================] - 109s 72ms/step - loss: 0.0814 - acc: 0.9720 - val_loss: 0.0937 - val_acc: 0.9333\n",
            "-- Evaluate --\n",
            "acc: 86.67%\n",
            "-- Predict --\n",
            "{'cancer': 0, 'etc': 1, 'normal': 2}\n",
            "[[0.000 0.200 0.800]\n",
            " [0.000 0.000 1.000]\n",
            " [0.000 1.000 0.000]\n",
            " [0.000 0.012 0.988]\n",
            " [0.000 0.020 0.980]\n",
            " [1.000 0.000 0.000]\n",
            " [1.000 0.000 0.000]\n",
            " [0.000 0.196 0.804]\n",
            " [0.999 0.000 0.001]\n",
            " [1.000 0.000 0.000]\n",
            " [0.000 0.000 1.000]\n",
            " [0.000 0.404 0.596]\n",
            " [1.000 0.000 0.000]\n",
            " [0.999 0.000 0.001]\n",
            " [1.000 0.000 0.000]]\n"
          ],
          "name": "stdout"
        }
      ]
    },
    {
      "cell_type": "code",
      "metadata": {
        "id": "mCl5fOA7Nj_3",
        "colab_type": "code",
        "colab": {}
      },
      "source": [
        ""
      ],
      "execution_count": 0,
      "outputs": []
    },
    {
      "cell_type": "code",
      "metadata": {
        "id": "jlSL8H_INkke",
        "colab_type": "code",
        "colab": {}
      },
      "source": [
        ""
      ],
      "execution_count": 0,
      "outputs": []
    },
    {
      "cell_type": "code",
      "metadata": {
        "id": "TXQylf7LNlIt",
        "colab_type": "code",
        "colab": {}
      },
      "source": [
        ""
      ],
      "execution_count": 0,
      "outputs": []
    },
    {
      "cell_type": "code",
      "metadata": {
        "id": "YPgWPqRNZ98Z",
        "colab_type": "code",
        "colab": {}
      },
      "source": [
        ""
      ],
      "execution_count": 0,
      "outputs": []
    },
    {
      "cell_type": "code",
      "metadata": {
        "id": "jrAFZ8Znc6Rw",
        "colab_type": "code",
        "colab": {}
      },
      "source": [
        ""
      ],
      "execution_count": 0,
      "outputs": []
    }
  ]
}