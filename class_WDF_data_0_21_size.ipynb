{
  "nbformat": 4,
  "nbformat_minor": 0,
  "metadata": {
    "colab": {
      "name": "class_WDF_data_0_21_size.ipynb",
      "provenance": [],
      "include_colab_link": true
    },
    "kernelspec": {
      "name": "python3",
      "display_name": "Python 3"
    }
  },
  "cells": [
    {
      "cell_type": "markdown",
      "metadata": {
        "id": "view-in-github",
        "colab_type": "text"
      },
      "source": [
        "<a href=\"https://colab.research.google.com/github/jubeam/my_js_project/blob/master/class_WDF_data_0_21_size.ipynb\" target=\"_parent\"><img src=\"https://colab.research.google.com/assets/colab-badge.svg\" alt=\"Open In Colab\"/></a>"
      ]
    },
    {
      "cell_type": "code",
      "metadata": {
        "id": "hPlhohSmqgdq",
        "colab_type": "code",
        "outputId": "e3d301b1-e8ea-46b0-a342-bc80625fb93f",
        "colab": {
          "base_uri": "https://localhost:8080/",
          "height": 1000
        }
      },
      "source": [
        "#0. 사용할 패키지 불러오기\n",
        "import numpy as np\n",
        "import glob\n",
        "from PIL import Image\n",
        "from keras.models import Sequential\n",
        "from keras.layers import Dense\n",
        "from keras.layers import Flatten\n",
        "from keras.layers.convolutional import Conv2D\n",
        "from keras.layers.convolutional import MaxPooling2D\n",
        "from keras.preprocessing.image import ImageDataGenerator\n",
        "\n",
        "# 랜덤시드 고정시키기\n",
        "np.random.seed(3)\n",
        "\n",
        "# 1. 데이터 생성하기\n",
        "\n",
        "from google.colab import drive\n",
        "drive.mount('/gdrive', force_remount=True)\n",
        "train_datagen = ImageDataGenerator(\n",
        "        rescale=1./255,         # 픽셀 값을 0~1 범위로 변환\n",
        "        rotation_range=15,      # 15도까지 회전\n",
        "        width_shift_range=0.1,  # 10%까지 좌우 이동\n",
        "        height_shift_range=0.1, # 10%까지 상하 이동\n",
        "        shear_range=0.5,        # 50%까지 기울임\n",
        "        zoom_range=[0.8,2.0],         # 20%까지 확대\n",
        "        horizontal_flip=True,   # 좌우 뒤집기\n",
        "        vertical_flip=True,\n",
        "       fill_mode='nearest')\n",
        "    \n",
        "\n",
        "train_generator = train_datagen.flow_from_directory(\n",
        "        '/gdrive/My Drive/Colab Notebooks/WDF/train',\n",
        "        target_size=(21, 21),\n",
        "        batch_size=3,\n",
        "        class_mode='categorical')\n",
        "\n",
        "test_datagen = ImageDataGenerator(rescale=1./255)\n",
        "\n",
        "test_generator = test_datagen.flow_from_directory(\n",
        "        '/gdrive/My Drive/Colab Notebooks/WDF/test',\n",
        "        target_size=(21, 21),    \n",
        "        batch_size=3,\n",
        "       class_mode='categorical')\n",
        "real_test_datagen = ImageDataGenerator(rescale=1./255)\n",
        "real_test_generator = real_test_datagen.flow_from_directory(\n",
        "        '/gdrive/My Drive/Colab Notebooks/WDF/real_test',\n",
        "        target_size=(21, 21),    \n",
        "        batch_size=3,\n",
        "       class_mode='categorical')\n",
        "\n",
        "# 2. 모델 구성하기\n",
        "model = Sequential()\n",
        "model.add(Conv2D(32, kernel_size=(3, 3),\n",
        "                 activation='relu',\n",
        "                 input_shape=(21,21,3)))\n",
        "model.add(Conv2D(64, (3, 3), activation='relu'))\n",
        "model.add(MaxPooling2D(pool_size=(2, 2)))\n",
        "model.add(Flatten())\n",
        "model.add(Dense(128, activation='relu'))\n",
        "model.add(Dense(2, activation='softmax'))\n",
        "\n",
        "# 3. 모델 학습과정 설정하기\n",
        "model.compile(loss='categorical_crossentropy', optimizer='adam', metrics=['accuracy'])\n",
        "\n",
        "# 4. 모델 학습시키기\n",
        "from keras.callbacks import EarlyStopping\n",
        "early_stopping = EarlyStopping(patience = 10) # 조기종료 콜백함수 정의\n",
        "#hist = model.fit(X_train, Y_train, epochs=3000, batch_size=10, validation_data=(X_val, Y_val), callbacks=[early_stopping])\n",
        "hist= model.fit_generator(\n",
        "        train_generator,\n",
        "        steps_per_epoch=15, # * 100,\n",
        "        epochs=10, # 100,\n",
        "        validation_data=test_generator,\n",
        "        validation_steps=5,\n",
        "        callbacks=[early_stopping]    \n",
        "        )\n",
        "# 5. 모델 학습 과정 표시하기\n",
        "%matplotlib inline\n",
        "import matplotlib.pyplot as plt\n",
        "\n",
        "fig, loss_ax = plt.subplots()\n",
        "\n",
        "acc_ax = loss_ax.twinx()\n",
        "\n",
        "loss_ax.plot(hist.history['loss'], 'y', label='train loss')\n",
        "loss_ax.plot(hist.history['val_loss'], 'r', label='val loss')\n",
        "\n",
        "acc_ax.plot(hist.history['acc'], 'b', label='train acc')\n",
        "acc_ax.plot(hist.history['val_acc'], 'g', label='val acc')\n",
        "\n",
        "loss_ax.set_xlabel('epoch')\n",
        "loss_ax.set_ylabel('loss')\n",
        "acc_ax.set_ylabel('accuray')\n",
        "\n",
        "loss_ax.legend(loc='upper left')\n",
        "acc_ax.legend(loc='lower left')\n",
        "\n",
        "plt.show()\n",
        "# 6. 모델 평가하기\n",
        "print(\"-- Evaluate --\")\n",
        "scores = model.evaluate_generator(test_generator, steps=5)\n",
        "print(\"%s: %.2f%%\" %(model.metrics_names[1], scores[1]*100))\n",
        "\n",
        "# 7. 모델 사용하기\n",
        "print(\"-- Predict --\")\n",
        "\n",
        "#X=[]\n",
        "#filenames=[]\n",
        "#imge_w=7\n",
        "#imge_h=7\n",
        "#pixels=imge_h * imge_w *3\n",
        "#file_dir='/gdrive/My Drive/Colab Notebooks/WDF/real_test'\n",
        "#files = glob.glob(file_dir+\"/*/*.*\")\n",
        "#for i, f in enumerate(files):\n",
        "#  img= Image.open(f)\n",
        "#  img= img.convert(\"RGB\")\n",
        "#  img=img.resize((imge_w,imge_h))\n",
        "#  data=np.asarray(img)\n",
        "#  filenames.append(f)\n",
        "#  X.append(data)\n",
        "\n",
        "#prediction=model.predict(X)\n",
        "\n",
        "output = model.predict_generator(real_test_generator, steps=5)\n",
        "np.set_printoptions(formatter={'float': lambda x: \"{0:0.3f}\".format(x)})\n",
        "print(real_test_generator.class_indices)\n",
        "print(output)"
      ],
      "execution_count": 1,
      "outputs": [
        {
          "output_type": "stream",
          "text": [
            "Using TensorFlow backend.\n"
          ],
          "name": "stderr"
        },
        {
          "output_type": "stream",
          "text": [
            "Go to this URL in a browser: https://accounts.google.com/o/oauth2/auth?client_id=947318989803-6bn6qk8qdgf4n4g3pfee6491hc0brc4i.apps.googleusercontent.com&redirect_uri=urn%3Aietf%3Awg%3Aoauth%3A2.0%3Aoob&scope=email%20https%3A%2F%2Fwww.googleapis.com%2Fauth%2Fdocs.test%20https%3A%2F%2Fwww.googleapis.com%2Fauth%2Fdrive%20https%3A%2F%2Fwww.googleapis.com%2Fauth%2Fdrive.photos.readonly%20https%3A%2F%2Fwww.googleapis.com%2Fauth%2Fpeopleapi.readonly&response_type=code\n",
            "\n",
            "Enter your authorization code:\n",
            "··········\n",
            "Mounted at /gdrive\n",
            "Found 76 images belonging to 2 classes.\n",
            "Found 25 images belonging to 2 classes.\n",
            "Found 7 images belonging to 2 classes.\n",
            "WARNING:tensorflow:From /usr/local/lib/python3.6/dist-packages/keras/backend/tensorflow_backend.py:66: The name tf.get_default_graph is deprecated. Please use tf.compat.v1.get_default_graph instead.\n",
            "\n",
            "WARNING:tensorflow:From /usr/local/lib/python3.6/dist-packages/keras/backend/tensorflow_backend.py:541: The name tf.placeholder is deprecated. Please use tf.compat.v1.placeholder instead.\n",
            "\n",
            "WARNING:tensorflow:From /usr/local/lib/python3.6/dist-packages/keras/backend/tensorflow_backend.py:4432: The name tf.random_uniform is deprecated. Please use tf.random.uniform instead.\n",
            "\n",
            "WARNING:tensorflow:From /usr/local/lib/python3.6/dist-packages/keras/backend/tensorflow_backend.py:4267: The name tf.nn.max_pool is deprecated. Please use tf.nn.max_pool2d instead.\n",
            "\n",
            "WARNING:tensorflow:From /usr/local/lib/python3.6/dist-packages/keras/optimizers.py:793: The name tf.train.Optimizer is deprecated. Please use tf.compat.v1.train.Optimizer instead.\n",
            "\n",
            "WARNING:tensorflow:From /usr/local/lib/python3.6/dist-packages/keras/backend/tensorflow_backend.py:3576: The name tf.log is deprecated. Please use tf.math.log instead.\n",
            "\n",
            "WARNING:tensorflow:From /usr/local/lib/python3.6/dist-packages/tensorflow/python/ops/math_grad.py:1250: add_dispatch_support.<locals>.wrapper (from tensorflow.python.ops.array_ops) is deprecated and will be removed in a future version.\n",
            "Instructions for updating:\n",
            "Use tf.where in 2.0, which has the same broadcast rule as np.where\n",
            "WARNING:tensorflow:From /usr/local/lib/python3.6/dist-packages/keras/backend/tensorflow_backend.py:1033: The name tf.assign_add is deprecated. Please use tf.compat.v1.assign_add instead.\n",
            "\n",
            "Epoch 1/10\n",
            "15/15 [==============================] - 24s 2s/step - loss: 0.8556 - acc: 0.5572 - val_loss: 0.6912 - val_acc: 0.5333\n",
            "Epoch 2/10\n",
            "15/15 [==============================] - 18s 1s/step - loss: 0.6730 - acc: 0.6211 - val_loss: 0.5873 - val_acc: 0.8462\n",
            "Epoch 3/10\n",
            "15/15 [==============================] - 0s 20ms/step - loss: 0.6692 - acc: 0.5778 - val_loss: 0.6150 - val_acc: 0.8000\n",
            "Epoch 4/10\n",
            "15/15 [==============================] - 0s 27ms/step - loss: 0.5864 - acc: 0.7333 - val_loss: 0.5454 - val_acc: 0.6154\n",
            "Epoch 5/10\n",
            "15/15 [==============================] - 0s 18ms/step - loss: 0.5001 - acc: 0.8217 - val_loss: 0.5843 - val_acc: 0.8000\n",
            "Epoch 6/10\n",
            "15/15 [==============================] - 0s 29ms/step - loss: 0.4787 - acc: 0.6909 - val_loss: 0.9389 - val_acc: 0.5385\n",
            "Epoch 7/10\n",
            "15/15 [==============================] - 0s 20ms/step - loss: 0.5344 - acc: 0.7326 - val_loss: 0.3648 - val_acc: 0.9333\n",
            "Epoch 8/10\n",
            "15/15 [==============================] - 0s 27ms/step - loss: 0.5385 - acc: 0.7111 - val_loss: 0.5368 - val_acc: 0.6923\n",
            "Epoch 9/10\n",
            "15/15 [==============================] - 0s 18ms/step - loss: 0.5087 - acc: 0.7132 - val_loss: 0.7542 - val_acc: 0.5385\n",
            "Epoch 10/10\n",
            "15/15 [==============================] - 0s 20ms/step - loss: 0.4621 - acc: 0.8444 - val_loss: 0.3755 - val_acc: 0.8667\n"
          ],
          "name": "stdout"
        },
        {
          "output_type": "display_data",
          "data": {
            "image/png": "[encoded data removed]",
            "text/plain": [
              "<Figure size 432x288 with 2 Axes>"
            ]
          },
          "metadata": {
            "tags": []
          }
        },
        {
          "output_type": "stream",
          "text": [
            "-- Evaluate --\n",
            "acc: 86.67%\n",
            "-- Predict --\n",
            "{'cancer': 0, 'normal': 1}\n",
            "[[0.357 0.643]\n",
            " [0.095 0.905]\n",
            " [0.553 0.447]\n",
            " [0.094 0.906]\n",
            " [0.252 0.748]\n",
            " [0.898 0.102]\n",
            " [0.916 0.084]\n",
            " [0.898 0.102]\n",
            " [0.094 0.906]\n",
            " [0.252 0.748]\n",
            " [0.553 0.447]\n",
            " [0.916 0.084]\n",
            " [0.095 0.905]]\n"
          ],
          "name": "stdout"
        }
      ]
    },
    {
      "cell_type": "markdown",
      "metadata": {
        "id": "JjdSEkRsWFOw",
        "colab_type": "text"
      },
      "source": [
        ""
      ]
    },
    {
      "cell_type": "code",
      "metadata": {
        "id": "ZF1f7kkWWGAv",
        "colab_type": "code",
        "colab": {
          "base_uri": "https://localhost:8080/",
          "height": 35
        },
        "outputId": "8b227d21-65fc-48a3-d944-2f878d3c13f5"
      },
      "source": [
        "output[0]"
      ],
      "execution_count": 2,
      "outputs": [
        {
          "output_type": "execute_result",
          "data": {
            "text/plain": [
              "array([0.357, 0.643], dtype=float32)"
            ]
          },
          "metadata": {
            "tags": []
          },
          "execution_count": 2
        }
      ]
    },
    {
      "cell_type": "code",
      "metadata": {
        "id": "KGyb9bNAWS3X",
        "colab_type": "code",
        "colab": {
          "base_uri": "https://localhost:8080/",
          "height": 35
        },
        "outputId": "31563550-25c5-4c2a-b7d6-707b49ba2308"
      },
      "source": [
        "np.argmax(output[0])"
      ],
      "execution_count": 3,
      "outputs": [
        {
          "output_type": "execute_result",
          "data": {
            "text/plain": [
              "1"
            ]
          },
          "metadata": {
            "tags": []
          },
          "execution_count": 3
        }
      ]
    }
  ]
}