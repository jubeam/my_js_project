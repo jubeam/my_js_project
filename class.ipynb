{
  "nbformat": 4,
  "nbformat_minor": 0,
  "metadata": {
    "colab": {
      "name": "class",
      "version": "0.3.2",
      "provenance": [],
      "collapsed_sections": [],
      "machine_shape": "hm",
      "include_colab_link": true
    },
    "kernelspec": {
      "name": "python3",
      "display_name": "Python 3"
    }
  },
  "cells": [
    {
      "cell_type": "markdown",
      "metadata": {
        "id": "view-in-github",
        "colab_type": "text"
      },
      "source": [
        "<a href=\"https://colab.research.google.com/github/jubeam/my_js_project/blob/master/class.ipynb\" target=\"_parent\"><img src=\"https://colab.research.google.com/assets/colab-badge.svg\" alt=\"Open In Colab\"/></a>"
      ]
    },
    {
      "cell_type": "code",
      "metadata": {
        "id": "S3VpWsY3c36k",
        "colab_type": "code",
        "outputId": "98f7430d-3e30-4586-c3e7-86785a018548",
        "colab": {
          "base_uri": "https://localhost:8080/",
          "height": 763
        }
      },
      "source": [
        " #0. 사용할 패키지 불러오기\n",
        "import numpy as np\n",
        "from keras.models import Sequential\n",
        "from keras.layers import Dense\n",
        "from keras.layers import Flatten\n",
        "from keras.layers.convolutional import Conv2D\n",
        "from keras.layers.convolutional import MaxPooling2D\n",
        "from keras.preprocessing.image import ImageDataGenerator\n",
        "\n",
        "# 랜덤시드 고정시키기\n",
        "np.random.seed(3)\n",
        "\n",
        "# 1. 데이터 생성하기\n",
        "\n",
        "from google.colab import drive\n",
        "drive.mount('/gdrive', force_remount=True)\n",
        "train_datagen = ImageDataGenerator(\n",
        "        rescale=1./255,         # 픽셀 값을 0~1 범위로 변환\n",
        "        rotation_range=15,      # 15도까지 회전\n",
        "        width_shift_range=0.1,  # 10%까지 좌우 이동\n",
        "        height_shift_range=0.1, # 10%까지 상하 이동\n",
        "        shear_range=0.5,        # 50%까지 기울임\n",
        "        zoom_range=[0.8,2.0],         # 20%까지 확대\n",
        "        horizontal_flip=True,   # 좌우 뒤집기\n",
        "        vertical_flip=True,\n",
        "       fill_mode='nearest')\n",
        "    \n",
        "\n",
        "train_generator = train_datagen.flow_from_directory(\n",
        "        '/gdrive/My Drive/Colab Notebooks/train',\n",
        "        target_size=(70, 70),\n",
        "        batch_size=3,\n",
        "        class_mode='categorical')\n",
        "\n",
        "test_datagen = ImageDataGenerator(rescale=1./255)\n",
        "\n",
        "test_generator = test_datagen.flow_from_directory(\n",
        "        '/gdrive/My Drive/Colab Notebooks/test',\n",
        "        target_size=(70, 70),    \n",
        "        batch_size=3,\n",
        "       class_mode='categorical')\n",
        "\n",
        "# 2. 모델 구성하기\n",
        "model = Sequential()\n",
        "model.add(Conv2D(32, kernel_size=(3, 3),\n",
        "                 activation='relu',\n",
        "                 input_shape=(70,70,3)))\n",
        "model.add(Conv2D(64, (3, 3), activation='relu'))\n",
        "model.add(MaxPooling2D(pool_size=(2, 2)))\n",
        "model.add(Flatten())\n",
        "model.add(Dense(128, activation='relu'))\n",
        "model.add(Dense(3, activation='softmax'))\n",
        "\n",
        "# 3. 모델 학습과정 설정하기\n",
        "model.compile(loss='categorical_crossentropy', optimizer='adam', metrics=['accuracy'])\n",
        "\n",
        "# 4. 모델 학습시키기\n",
        "model.fit_generator(\n",
        "        train_generator,\n",
        "        steps_per_epoch=15 * 100,\n",
        "        epochs=200,\n",
        "        validation_data=test_generator,\n",
        "        validation_steps=5)\n",
        "\n",
        "# 6. 모델 평가하기\n",
        "print(\"-- Evaluate --\")\n",
        "scores = model.evaluate_generator(test_generator, steps=5)\n",
        "print(\"%s: %.2f%%\" %(model.metrics_names[1], scores[1]*100))\n",
        "\n",
        "# 7. 모델 사용하기\n",
        "print(\"-- Predict --\")\n",
        "output = model.predict_generator(test_generator, steps=5)\n",
        "np.set_printoptions(formatter={'float': lambda x: \"{0:0.3f}\".format(x)})\n",
        "print(test_generator.class_indices)\n",
        "print(output)"
      ],
      "execution_count": 0,
      "outputs": [
        {
          "output_type": "stream",
          "text": [
            "Mounted at /gdrive\n",
            "Found 70 images belonging to 3 classes.\n",
            "Found 12 images belonging to 3 classes.\n",
            "Epoch 1/200\n",
            "1500/1500 [==============================] - 173s 116ms/step - loss: 7.8843 - acc: 0.5104 - val_loss: 9.6709 - val_acc: 0.4000\n",
            "Epoch 2/200\n",
            "1500/1500 [==============================] - 174s 116ms/step - loss: 7.8226 - acc: 0.5147 - val_loss: 8.5963 - val_acc: 0.4667\n",
            "Epoch 3/200\n",
            "1500/1500 [==============================] - 176s 117ms/step - loss: 7.8549 - acc: 0.5127 - val_loss: 10.7454 - val_acc: 0.3333\n",
            "Epoch 4/200\n",
            "1500/1500 [==============================] - 176s 117ms/step - loss: 7.8549 - acc: 0.5127 - val_loss: 8.5963 - val_acc: 0.4667\n",
            "Epoch 5/200\n",
            "1500/1500 [==============================] - 175s 117ms/step - loss: 7.7833 - acc: 0.5171 - val_loss: 8.5963 - val_acc: 0.4667\n",
            "Epoch 6/200\n",
            "1500/1500 [==============================] - 175s 117ms/step - loss: 7.8262 - acc: 0.5144 - val_loss: 10.7454 - val_acc: 0.3333\n",
            "Epoch 7/200\n",
            "1500/1500 [==============================] - 176s 117ms/step - loss: 7.8155 - acc: 0.5151 - val_loss: 9.6709 - val_acc: 0.4000\n",
            "Epoch 8/200\n",
            "1500/1500 [==============================] - 175s 117ms/step - loss: 7.8656 - acc: 0.5120 - val_loss: 8.5963 - val_acc: 0.4667\n",
            "Epoch 9/200\n",
            "1500/1500 [==============================] - 175s 117ms/step - loss: 7.8728 - acc: 0.5116 - val_loss: 9.6709 - val_acc: 0.4000\n",
            "Epoch 10/200\n",
            "1500/1500 [==============================] - 175s 117ms/step - loss: 7.8584 - acc: 0.5124 - val_loss: 9.6709 - val_acc: 0.4000\n",
            "Epoch 11/200\n",
            "1500/1500 [==============================] - 175s 117ms/step - loss: 7.8262 - acc: 0.5144 - val_loss: 8.5963 - val_acc: 0.4667\n",
            "Epoch 12/200\n",
            "1500/1500 [==============================] - 175s 117ms/step - loss: 7.8048 - acc: 0.5158 - val_loss: 9.6709 - val_acc: 0.4000\n",
            "Epoch 13/200\n",
            "1500/1500 [==============================] - 176s 117ms/step - loss: 7.8370 - acc: 0.5138 - val_loss: 9.6709 - val_acc: 0.4000\n",
            "Epoch 14/200\n",
            "1500/1500 [==============================] - 177s 118ms/step - loss: 7.8441 - acc: 0.5133 - val_loss: 7.5218 - val_acc: 0.5333\n",
            "Epoch 15/200\n",
            "1500/1500 [==============================] - 177s 118ms/step - loss: 7.8191 - acc: 0.5149 - val_loss: 9.6709 - val_acc: 0.4000\n",
            "Epoch 16/200\n",
            "1500/1500 [==============================] - 176s 118ms/step - loss: 7.8191 - acc: 0.5149 - val_loss: 10.7454 - val_acc: 0.3333\n",
            "Epoch 17/200\n",
            "1500/1500 [==============================] - 176s 117ms/step - loss: 7.8298 - acc: 0.5142 - val_loss: 10.7454 - val_acc: 0.3333\n",
            "Epoch 18/200\n",
            "1500/1500 [==============================] - 176s 118ms/step - loss: 7.8012 - acc: 0.5160 - val_loss: 6.4472 - val_acc: 0.6000\n",
            "Epoch 19/200\n",
            " 942/1500 [=================>............] - ETA: 1:05 - loss: 7.8537 - acc: 0.5127"
          ],
          "name": "stdout"
        }
      ]
    },
    {
      "cell_type": "code",
      "metadata": {
        "id": "jrAFZ8Znc6Rw",
        "colab_type": "code",
        "colab": {}
      },
      "source": [
        ""
      ],
      "execution_count": 0,
      "outputs": []
    }
  ]
}