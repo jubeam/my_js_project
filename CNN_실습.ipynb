{
  "nbformat": 4,
  "nbformat_minor": 0,
  "metadata": {
    "colab": {
      "name": "CNN_실습.ipynb",
      "version": "0.3.2",
      "provenance": [],
      "include_colab_link": true
    },
    "kernelspec": {
      "name": "python3",
      "display_name": "Python 3"
    }
  },
  "cells": [
    {
      "cell_type": "markdown",
      "metadata": {
        "id": "view-in-github",
        "colab_type": "text"
      },
      "source": [
        "<a href=\"https://colab.research.google.com/github/jubeam/my_js_project/blob/master/CNN_%EC%8B%A4%EC%8A%B5.ipynb\" target=\"_parent\"><img src=\"https://colab.research.google.com/assets/colab-badge.svg\" alt=\"Open In Colab\"/></a>"
      ]
    },
    {
      "cell_type": "code",
      "metadata": {
        "id": "bqPacsBowt7A",
        "colab_type": "code",
        "outputId": "d832a2aa-58b9-403e-bf6f-52e1838026b5",
        "colab": {
          "base_uri": "https://localhost:8080/",
          "height": 1000
        }
      },
      "source": [
        "from urllib.request import urlretrieve\n",
        "urlretrieve('http://doc.mindscale.kr/km/unstructured/dog-vs-cat.zip',\n",
        "            'dog-vs-cat.zip')\n",
        "from zipfile import ZipFile\n",
        "\n",
        "with ZipFile('dog-vs-cat.zip') as z:\n",
        "    z.extractall()\n",
        "\n",
        "\n",
        "from keras.preprocessing.image import ImageDataGenerator\n",
        "\n",
        "img_gen = ImageDataGenerator(\n",
        "        rescale=1/255,         # 픽셀 값을 0~1 범위로 변환\n",
        "        rotation_range=40,      # 40도까지 회전\n",
        "        width_shift_range=0.2,  # 20%까지 좌우 이동\n",
        "        height_shift_range=0.2, # 20%까지 상하 이동\n",
        "        shear_range=0.2,        # 20%까지 기울임\n",
        "        zoom_range=0.2,         # 20%까지 확대\n",
        "        horizontal_flip=True,   # 좌우 뒤집기\n",
        "    )\n",
        "\n",
        "train = img_gen.flow_from_directory(\n",
        "    'dog-vs-cat/train',     # 이미지 디렉토리\n",
        "    target_size=(100, 100), # 변환할 크기는 가로 100, 세로 100\n",
        "    color_mode='rgb',       # 컬러는 rgb, 흑백은 grayscale. 생략하면 컬러로 처리한다\n",
        "    class_mode='binary')    # 고양이 vs. 개로 binary 분류\n",
        "\n",
        "valid = ImageDataGenerator(rescale=1/255).flow_from_directory(\n",
        "    'dog-vs-cat/validation',\n",
        "    target_size=(100, 100),\n",
        "    class_mode='binary',\n",
        "    shuffle=False)\n",
        "\n",
        "#모형 만들기\n",
        "from keras.layers import Conv2D, Dense, Dropout, Flatten, MaxPooling2D\n",
        "from keras.models import Sequential\n",
        "\n",
        "model = Sequential()\n",
        "model.add(Conv2D(32, (5, 5), activation='relu', input_shape=(100, 100, 3)))\n",
        "model.add(MaxPooling2D((2, 2)))\n",
        "model.add(Conv2D(32, (3, 3), activation='relu'))\n",
        "model.add(MaxPooling2D((2, 2)))\n",
        "model.add(Flatten())\n",
        "model.add(Dropout(0.5))\n",
        "model.add(Dense(1, activation='sigmoid'))\n",
        "\n",
        "model.summary()\n",
        "\n",
        "from keras.optimizers import Adam, RMSprop\n",
        "from keras.callbacks import TensorBoard\n",
        "LOG_DIR = 'log_model'\n",
        "model.compile(loss='binary_crossentropy', metrics=['accuracy'], optimizer=Adam())\n",
        "from keras.callbacks import ModelCheckpoint, TensorBoard\n",
        "model.fit_generator(\n",
        "    train, validation_data=valid,steps_per_epoch=10, validation_steps=5, epochs=5,\n",
        "    callbacks=[\n",
        "        TensorBoard(log_dir=LOG_DIR),\n",
        "        ModelCheckpoint('cnn-{epoch:02d}.hdf5', save_best_only=True),\n",
        "    ])\n",
        "\n",
        "from keras.preprocessing.image import load_img \n",
        "img = load_img('dog-vs-cat/validation/cat/cat.1000.jpg', target_size=(100, 100))\n",
        "import numpy\n",
        "img_array = numpy.array(img) / 255\n",
        "img_array.shape\n",
        "model.predict(numpy.array([img_array]))\n",
        "\n",
        "\n",
        "!wget https://bin.equinox.io/c/4VmDzA7iaHb/ngrok-stable-linux-amd64.zip\n",
        "!unzip -o ngrok-stable-linux-amd64.zip\n",
        "get_ipython().system_raw(f'tensorboard --logdir {LOG_DIR} --host 0.0.0.0 --port 6006 &')\n",
        "get_ipython().system_raw('./ngrok http 6006 &')\n",
        "! curl -s http://localhost:4040/api/tunnels | tr '\"' '\\n' | grep \"https://\""
      ],
      "execution_count": 1,
      "outputs": [
        {
          "output_type": "stream",
          "text": [
            "Using TensorFlow backend.\n",
            "WARNING: Logging before flag parsing goes to stderr.\n",
            "W0704 06:37:43.695105 140511775905664 deprecation_wrapper.py:119] From /usr/local/lib/python3.6/dist-packages/keras/backend/tensorflow_backend.py:74: The name tf.get_default_graph is deprecated. Please use tf.compat.v1.get_default_graph instead.\n",
            "\n",
            "W0704 06:37:43.738786 140511775905664 deprecation_wrapper.py:119] From /usr/local/lib/python3.6/dist-packages/keras/backend/tensorflow_backend.py:517: The name tf.placeholder is deprecated. Please use tf.compat.v1.placeholder instead.\n",
            "\n",
            "W0704 06:37:43.745626 140511775905664 deprecation_wrapper.py:119] From /usr/local/lib/python3.6/dist-packages/keras/backend/tensorflow_backend.py:4138: The name tf.random_uniform is deprecated. Please use tf.random.uniform instead.\n",
            "\n"
          ],
          "name": "stderr"
        },
        {
          "output_type": "stream",
          "text": [
            "Found 2000 images belonging to 2 classes.\n",
            "Found 800 images belonging to 2 classes.\n"
          ],
          "name": "stdout"
        },
        {
          "output_type": "stream",
          "text": [
            "W0704 06:37:43.793528 140511775905664 deprecation_wrapper.py:119] From /usr/local/lib/python3.6/dist-packages/keras/backend/tensorflow_backend.py:3976: The name tf.nn.max_pool is deprecated. Please use tf.nn.max_pool2d instead.\n",
            "\n",
            "W0704 06:37:43.826372 140511775905664 deprecation_wrapper.py:119] From /usr/local/lib/python3.6/dist-packages/keras/backend/tensorflow_backend.py:133: The name tf.placeholder_with_default is deprecated. Please use tf.compat.v1.placeholder_with_default instead.\n",
            "\n",
            "W0704 06:37:43.838260 140511775905664 deprecation.py:506] From /usr/local/lib/python3.6/dist-packages/keras/backend/tensorflow_backend.py:3445: calling dropout (from tensorflow.python.ops.nn_ops) with keep_prob is deprecated and will be removed in a future version.\n",
            "Instructions for updating:\n",
            "Please use `rate` instead of `keep_prob`. Rate should be set to `rate = 1 - keep_prob`.\n",
            "W0704 06:37:43.887930 140511775905664 deprecation_wrapper.py:119] From /usr/local/lib/python3.6/dist-packages/keras/optimizers.py:790: The name tf.train.Optimizer is deprecated. Please use tf.compat.v1.train.Optimizer instead.\n",
            "\n",
            "W0704 06:37:43.895119 140511775905664 deprecation_wrapper.py:119] From /usr/local/lib/python3.6/dist-packages/keras/backend/tensorflow_backend.py:3376: The name tf.log is deprecated. Please use tf.math.log instead.\n",
            "\n",
            "W0704 06:37:43.905323 140511775905664 deprecation.py:323] From /usr/local/lib/python3.6/dist-packages/tensorflow/python/ops/nn_impl.py:180: add_dispatch_support.<locals>.wrapper (from tensorflow.python.ops.array_ops) is deprecated and will be removed in a future version.\n",
            "Instructions for updating:\n",
            "Use tf.where in 2.0, which has the same broadcast rule as np.where\n"
          ],
          "name": "stderr"
        },
        {
          "output_type": "stream",
          "text": [
            "_________________________________________________________________\n",
            "Layer (type)                 Output Shape              Param #   \n",
            "=================================================================\n",
            "conv2d_1 (Conv2D)            (None, 96, 96, 32)        2432      \n",
            "_________________________________________________________________\n",
            "max_pooling2d_1 (MaxPooling2 (None, 48, 48, 32)        0         \n",
            "_________________________________________________________________\n",
            "conv2d_2 (Conv2D)            (None, 46, 46, 32)        9248      \n",
            "_________________________________________________________________\n",
            "max_pooling2d_2 (MaxPooling2 (None, 23, 23, 32)        0         \n",
            "_________________________________________________________________\n",
            "flatten_1 (Flatten)          (None, 16928)             0         \n",
            "_________________________________________________________________\n",
            "dropout_1 (Dropout)          (None, 16928)             0         \n",
            "_________________________________________________________________\n",
            "dense_1 (Dense)              (None, 1)                 16929     \n",
            "=================================================================\n",
            "Total params: 28,609\n",
            "Trainable params: 28,609\n",
            "Non-trainable params: 0\n",
            "_________________________________________________________________\n"
          ],
          "name": "stdout"
        },
        {
          "output_type": "stream",
          "text": [
            "W0704 06:37:47.835361 140511775905664 deprecation_wrapper.py:119] From /usr/local/lib/python3.6/dist-packages/keras/callbacks.py:850: The name tf.summary.merge_all is deprecated. Please use tf.compat.v1.summary.merge_all instead.\n",
            "\n",
            "W0704 06:37:47.836921 140511775905664 deprecation_wrapper.py:119] From /usr/local/lib/python3.6/dist-packages/keras/callbacks.py:853: The name tf.summary.FileWriter is deprecated. Please use tf.compat.v1.summary.FileWriter instead.\n",
            "\n"
          ],
          "name": "stderr"
        },
        {
          "output_type": "stream",
          "text": [
            "Epoch 1/5\n",
            "10/10 [==============================] - 8s 829ms/step - loss: 0.7881 - acc: 0.4813 - val_loss: 0.5877 - val_acc: 0.9313\n",
            "Epoch 2/5\n",
            "10/10 [==============================] - 6s 581ms/step - loss: 0.7205 - acc: 0.5438 - val_loss: 1.1116 - val_acc: 0.0000e+00\n",
            "Epoch 3/5\n",
            "10/10 [==============================] - 6s 586ms/step - loss: 0.7049 - acc: 0.5344 - val_loss: 0.6907 - val_acc: 0.5062\n",
            "Epoch 4/5\n",
            "10/10 [==============================] - 6s 579ms/step - loss: 0.6908 - acc: 0.5250 - val_loss: 0.6151 - val_acc: 1.0000\n",
            "Epoch 5/5\n",
            "10/10 [==============================] - 6s 580ms/step - loss: 0.6944 - acc: 0.5156 - val_loss: 0.7804 - val_acc: 0.0312\n",
            "--2019-07-04 06:38:20--  https://bin.equinox.io/c/4VmDzA7iaHb/ngrok-stable-linux-amd64.zip\n",
            "Resolving bin.equinox.io (bin.equinox.io)... 52.71.139.107, 52.203.53.176, 54.165.51.142, ...\n",
            "Connecting to bin.equinox.io (bin.equinox.io)|52.71.139.107|:443... connected.\n",
            "HTTP request sent, awaiting response... 200 OK\n",
            "Length: 17556757 (17M) [application/octet-stream]\n",
            "Saving to: ‘ngrok-stable-linux-amd64.zip’\n",
            "\n",
            "ngrok-stable-linux- 100%[===================>]  16.74M  19.1MB/s    in 0.9s    \n",
            "\n",
            "2019-07-04 06:38:21 (19.1 MB/s) - ‘ngrok-stable-linux-amd64.zip’ saved [17556757/17556757]\n",
            "\n",
            "Archive:  ngrok-stable-linux-amd64.zip\n",
            "  inflating: ngrok                   \n",
            "https://df8c1f2e.ngrok.io\n"
          ],
          "name": "stdout"
        }
      ]
    }
  ]
}