{
  "nbformat": 4,
  "nbformat_minor": 0,
  "metadata": {
    "colab": {
      "name": "class_0_64_red.ipynb",
      "version": "0.3.2",
      "provenance": [],
      "include_colab_link": true
    },
    "kernelspec": {
      "name": "python3",
      "display_name": "Python 3"
    }
  },
  "cells": [
    {
      "cell_type": "markdown",
      "metadata": {
        "id": "view-in-github",
        "colab_type": "text"
      },
      "source": [
        "<a href=\"https://colab.research.google.com/github/jubeam/my_js_project/blob/master/class_0_64_red.ipynb\" target=\"_parent\"><img src=\"https://colab.research.google.com/assets/colab-badge.svg\" alt=\"Open In Colab\"/></a>"
      ]
    },
    {
      "cell_type": "code",
      "metadata": {
        "id": "KdRYPL1OZz0a",
        "colab_type": "code",
        "outputId": "af7da963-998a-4ace-afe1-0d37ac79ca34",
        "colab": {
          "base_uri": "https://localhost:8080/",
          "height": 1000
        }
      },
      "source": [
        "#0. 사용할 패키지 불러오기\n",
        "import numpy as np\n",
        "from keras.models import Sequential\n",
        "from keras.layers import Dense\n",
        "from keras.layers import Flatten\n",
        "from keras.layers.convolutional import Conv2D\n",
        "from keras.layers.convolutional import MaxPooling2D\n",
        "from keras.preprocessing.image import ImageDataGenerator\n",
        "\n",
        "# 랜덤시드 고정시키기\n",
        "np.random.seed(3)\n",
        "\n",
        "# 1. 데이터 생성하기\n",
        "\n",
        "from google.colab import drive\n",
        "drive.mount('/gdrive', force_remount=True)\n",
        "train_datagen = ImageDataGenerator(\n",
        "        rescale=1./255,         # 픽셀 값을 0~1 범위로 변환\n",
        "        rotation_range=15,      # 15도까지 회전\n",
        "        width_shift_range=0.1,  # 10%까지 좌우 이동\n",
        "        height_shift_range=0.1, # 10%까지 상하 이동\n",
        "        shear_range=0.5,        # 50%까지 기울임\n",
        "        zoom_range=[0.8,2.0],         # 20%까지 확대\n",
        "        horizontal_flip=True,   # 좌우 뒤집기\n",
        "        vertical_flip=True,\n",
        "       fill_mode='nearest')\n",
        "    \n",
        "\n",
        "train_generator = train_datagen.flow_from_directory(\n",
        "        '/gdrive/My Drive/Colab Notebooks/WNR/data_0_64_red_size/train',\n",
        "        target_size=(64, 64),\n",
        "        batch_size=3,\n",
        "        class_mode='binary')\n",
        "\n",
        "test_datagen = ImageDataGenerator(rescale=1./255)\n",
        "\n",
        "test_generator = test_datagen.flow_from_directory(\n",
        "        '/gdrive/My Drive/Colab Notebooks/WNR/data_0_64_red_size/test',\n",
        "        target_size=(64, 64),    \n",
        "        batch_size=3,\n",
        "       class_mode='binary')\n",
        "real_test_datagen = ImageDataGenerator(rescale=1./255)\n",
        "real_test_generator = real_test_datagen.flow_from_directory(\n",
        "        '/gdrive/My Drive/Colab Notebooks/WNR/data_0_64_red_size/real_test',\n",
        "        target_size=(64, 64),    \n",
        "        batch_size=3,\n",
        "       class_mode='binary')\n",
        "\n",
        "# 2. 모델 구성하기\n",
        "model = Sequential()\n",
        "model.add(Conv2D(32, kernel_size=(3, 3),\n",
        "                 activation='relu',\n",
        "                 input_shape=(64,64,3)))\n",
        "model.add(Conv2D(64, (3, 3), activation='relu'))\n",
        "model.add(MaxPooling2D(pool_size=(2, 2)))\n",
        "model.add(Flatten())\n",
        "model.add(Dense(128, activation='relu'))\n",
        "model.add(Dense(1, activation='sigmoid'))\n",
        "\n",
        "# 3. 모델 학습과정 설정하기\n",
        "model.compile(loss='binary_crossentropy', optimizer='adam', metrics=['accuracy'])\n",
        "\n",
        "# 4. 모델 학습시키기\n",
        "from keras.callbacks import EarlyStopping\n",
        "early_stopping = EarlyStopping(patience = 10) # 조기종료 콜백함수 정의\n",
        "#hist = model.fit(X_train, Y_train, epochs=3000, batch_size=10, validation_data=(X_val, Y_val), callbacks=[early_stopping])\n",
        "hist= model.fit_generator(\n",
        "        train_generator,\n",
        "        steps_per_epoch=15 * 100,\n",
        "        epochs=100,\n",
        "        validation_data=test_generator,\n",
        "        validation_steps=5,\n",
        "        callbacks=[early_stopping]    \n",
        "        )\n",
        "# 5. 모델 학습 과정 표시하기\n",
        "%matplotlib inline\n",
        "import matplotlib.pyplot as plt\n",
        "\n",
        "fig, loss_ax = plt.subplots()\n",
        "\n",
        "acc_ax = loss_ax.twinx()\n",
        "\n",
        "loss_ax.plot(hist.history['loss'], 'y', label='train loss')\n",
        "loss_ax.plot(hist.history['val_loss'], 'r', label='val loss')\n",
        "\n",
        "acc_ax.plot(hist.history['acc'], 'b', label='train acc')\n",
        "acc_ax.plot(hist.history['val_acc'], 'g', label='val acc')\n",
        "\n",
        "loss_ax.set_xlabel('epoch')\n",
        "loss_ax.set_ylabel('loss')\n",
        "acc_ax.set_ylabel('accuray')\n",
        "\n",
        "loss_ax.legend(loc='upper left')\n",
        "acc_ax.legend(loc='lower left')\n",
        "\n",
        "plt.show()\n",
        "# 6. 모델 평가하기\n",
        "print(\"-- Evaluate --\")\n",
        "scores = model.evaluate_generator(test_generator, steps=5)\n",
        "print(\"%s: %.2f%%\" %(model.metrics_names[1], scores[1]*100))\n",
        "\n",
        "# 7. 모델 사용하기\n",
        "print(\"-- Predict --\")\n",
        "\n",
        "\n",
        "\n",
        "output = model.predict_generator(real_test_generator)\n",
        "np.set_printoptions(formatter={'float': lambda x: \"{0:0.3f}\".format(x)})\n",
        "print(real_test_generator.class_indices)\n",
        "print(output)"
      ],
      "execution_count": 2,
      "outputs": [
        {
          "output_type": "stream",
          "text": [
            "Mounted at /gdrive\n",
            "Found 66 images belonging to 2 classes.\n",
            "Found 12 images belonging to 2 classes.\n"
          ],
          "name": "stdout"
        },
        {
          "output_type": "stream",
          "text": [
            "WARNING: Logging before flag parsing goes to stderr.\n",
            "W0906 11:44:17.627662 140719101863808 deprecation_wrapper.py:119] From /usr/local/lib/python3.6/dist-packages/keras/backend/tensorflow_backend.py:66: The name tf.get_default_graph is deprecated. Please use tf.compat.v1.get_default_graph instead.\n",
            "\n",
            "W0906 11:44:17.679569 140719101863808 deprecation_wrapper.py:119] From /usr/local/lib/python3.6/dist-packages/keras/backend/tensorflow_backend.py:541: The name tf.placeholder is deprecated. Please use tf.compat.v1.placeholder instead.\n",
            "\n",
            "W0906 11:44:17.688242 140719101863808 deprecation_wrapper.py:119] From /usr/local/lib/python3.6/dist-packages/keras/backend/tensorflow_backend.py:4432: The name tf.random_uniform is deprecated. Please use tf.random.uniform instead.\n",
            "\n",
            "W0906 11:44:17.760498 140719101863808 deprecation_wrapper.py:119] From /usr/local/lib/python3.6/dist-packages/keras/backend/tensorflow_backend.py:4267: The name tf.nn.max_pool is deprecated. Please use tf.nn.max_pool2d instead.\n",
            "\n"
          ],
          "name": "stderr"
        },
        {
          "output_type": "stream",
          "text": [
            "Found 4 images belonging to 2 classes.\n"
          ],
          "name": "stdout"
        },
        {
          "output_type": "stream",
          "text": [
            "W0906 11:44:17.814622 140719101863808 deprecation_wrapper.py:119] From /usr/local/lib/python3.6/dist-packages/keras/optimizers.py:793: The name tf.train.Optimizer is deprecated. Please use tf.compat.v1.train.Optimizer instead.\n",
            "\n",
            "W0906 11:44:17.839991 140719101863808 deprecation_wrapper.py:119] From /usr/local/lib/python3.6/dist-packages/keras/backend/tensorflow_backend.py:3657: The name tf.log is deprecated. Please use tf.math.log instead.\n",
            "\n",
            "W0906 11:44:17.849283 140719101863808 deprecation.py:323] From /usr/local/lib/python3.6/dist-packages/tensorflow/python/ops/nn_impl.py:180: add_dispatch_support.<locals>.wrapper (from tensorflow.python.ops.array_ops) is deprecated and will be removed in a future version.\n",
            "Instructions for updating:\n",
            "Use tf.where in 2.0, which has the same broadcast rule as np.where\n",
            "W0906 11:44:18.218749 140719101863808 deprecation_wrapper.py:119] From /usr/local/lib/python3.6/dist-packages/keras/backend/tensorflow_backend.py:1033: The name tf.assign_add is deprecated. Please use tf.compat.v1.assign_add instead.\n",
            "\n"
          ],
          "name": "stderr"
        },
        {
          "output_type": "stream",
          "text": [
            "Epoch 1/100\n",
            "1500/1500 [==============================] - 357s 238ms/step - loss: 8.0630 - acc: 0.4998 - val_loss: 7.5218 - val_acc: 0.5333\n",
            "Epoch 2/100\n",
            "1500/1500 [==============================] - 335s 223ms/step - loss: 8.0519 - acc: 0.5004 - val_loss: 7.5218 - val_acc: 0.5333\n",
            "Epoch 3/100\n",
            "1500/1500 [==============================] - 325s 216ms/step - loss: 8.0698 - acc: 0.4993 - val_loss: 8.5963 - val_acc: 0.4667\n",
            "Epoch 4/100\n",
            "1500/1500 [==============================] - 329s 220ms/step - loss: 8.0519 - acc: 0.5004 - val_loss: 8.5963 - val_acc: 0.4667\n",
            "Epoch 5/100\n",
            "1500/1500 [==============================] - 326s 217ms/step - loss: 8.0662 - acc: 0.4996 - val_loss: 7.5218 - val_acc: 0.5333\n",
            "Epoch 6/100\n",
            "1500/1500 [==============================] - 321s 214ms/step - loss: 8.0519 - acc: 0.5004 - val_loss: 8.5963 - val_acc: 0.4667\n",
            "Epoch 7/100\n",
            "1500/1500 [==============================] - 321s 214ms/step - loss: 8.0770 - acc: 0.4989 - val_loss: 8.5963 - val_acc: 0.4667\n",
            "Epoch 8/100\n",
            "1500/1500 [==============================] - 320s 213ms/step - loss: 8.0483 - acc: 0.5007 - val_loss: 7.5218 - val_acc: 0.5333\n",
            "Epoch 9/100\n",
            "1500/1500 [==============================] - 315s 210ms/step - loss: 8.0519 - acc: 0.5004 - val_loss: 7.5218 - val_acc: 0.5333\n",
            "Epoch 10/100\n",
            "1500/1500 [==============================] - 309s 206ms/step - loss: 8.0662 - acc: 0.4996 - val_loss: 10.7454 - val_acc: 0.3333\n",
            "Epoch 11/100\n",
            "1500/1500 [==============================] - 315s 210ms/step - loss: 8.0519 - acc: 0.5004 - val_loss: 5.3727 - val_acc: 0.6667\n",
            "Epoch 12/100\n",
            "1500/1500 [==============================] - 314s 209ms/step - loss: 8.0590 - acc: 0.5000 - val_loss: 8.5963 - val_acc: 0.4667\n",
            "Epoch 13/100\n",
            "1500/1500 [==============================] - 311s 207ms/step - loss: 8.0698 - acc: 0.4993 - val_loss: 7.5218 - val_acc: 0.5333\n",
            "Epoch 14/100\n",
            "1500/1500 [==============================] - 319s 213ms/step - loss: 8.0411 - acc: 0.5011 - val_loss: 7.5218 - val_acc: 0.5333\n",
            "Epoch 15/100\n",
            "1500/1500 [==============================] - 336s 224ms/step - loss: 8.0841 - acc: 0.4984 - val_loss: 9.6709 - val_acc: 0.4000\n",
            "Epoch 16/100\n",
            "1500/1500 [==============================] - 324s 216ms/step - loss: 8.0447 - acc: 0.5009 - val_loss: 7.5218 - val_acc: 0.5333\n",
            "Epoch 17/100\n",
            "1500/1500 [==============================] - 324s 216ms/step - loss: 8.0519 - acc: 0.5004 - val_loss: 9.6709 - val_acc: 0.4000\n",
            "Epoch 18/100\n",
            "1500/1500 [==============================] - 310s 207ms/step - loss: 8.0770 - acc: 0.4989 - val_loss: 6.4472 - val_acc: 0.6000\n",
            "Epoch 19/100\n",
            "1500/1500 [==============================] - 311s 207ms/step - loss: 8.0555 - acc: 0.5002 - val_loss: 7.5218 - val_acc: 0.5333\n",
            "Epoch 20/100\n",
            "1500/1500 [==============================] - 320s 213ms/step - loss: 8.0590 - acc: 0.5000 - val_loss: 8.5963 - val_acc: 0.4667\n",
            "Epoch 21/100\n",
            "1500/1500 [==============================] - 319s 212ms/step - loss: 8.0590 - acc: 0.5000 - val_loss: 9.6709 - val_acc: 0.4000\n"
          ],
          "name": "stdout"
        },
        {
          "output_type": "display_data",
          "data": {
            "image/png": "[encoded data removed]",
            "text/plain": [
              "<Figure size 432x288 with 2 Axes>"
            ]
          },
          "metadata": {
            "tags": []
          }
        },
        {
          "output_type": "stream",
          "text": [
            "-- Evaluate --\n",
            "acc: 53.33%\n",
            "-- Predict --\n",
            "{'cancer': 0, 'normal': 1}\n",
            "[[0.000]\n",
            " [0.000]\n",
            " [0.000]\n",
            " [0.000]]\n"
          ],
          "name": "stdout"
        }
      ]
    }
  ]
}